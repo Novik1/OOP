{
 "cells": [
  {
   "cell_type": "code",
   "execution_count": 70,
   "metadata": {},
   "outputs": [],
   "source": [
    "import pandas as pd\n",
    "import numpy as np\n",
    "from nltk.stem.porter import PorterStemmer  \n",
    "from nltk.corpus import stopwords\n",
    "from nltk.tokenize import sent_tokenize \n",
    "import math\n",
    "from sklearn.decomposition import LatentDirichletAllocation\n",
    "from stop_words import get_stop_words\n",
    "from sklearn.cluster import MiniBatchKMeans , KMeans\n",
    "from sklearn.feature_extraction.text import TfidfVectorizer\n",
    "from sklearn.decomposition import PCA\n",
    "from sklearn.manifold import TSNE\n",
    "from nltk import sent_tokenize, word_tokenize, PorterStemmer\n",
    "from nltk.corpus import stopwords\n",
    "import re \n",
    "from nltk.stem import WordNetLemmatizer\n",
    "from sklearn.feature_extraction.text import CountVectorizer  \n",
    "from sklearn import feature_extraction\n",
    "from sklearn.feature_extraction.text import TfidfVectorizer\n",
    "from sklearn.linear_model import SGDClassifier , LogisticRegression\n",
    "from sklearn.model_selection import train_test_split\n",
    "from sklearn.metrics import roc_auc_score , confusion_matrix , accuracy_score, matthews_corrcoef , silhouette_score\n",
    "from sklearn.naive_bayes import MultinomialNB\n",
    "from tensorflow.keras.layers import Embedding\n",
    "from tensorflow.keras.preprocessing.sequence import pad_sequences\n",
    "from tensorflow.keras.models import Sequential\n",
    "from tensorflow.keras.preprocessing.text import one_hot\n",
    "from tensorflow.keras.layers import LSTM\n",
    "from tensorflow.keras.layers import Dense\n",
    "from sklearn.metrics import f1_score\n",
    "from sklearn.calibration import CalibratedClassifierCV\n",
    "from yellowbrick.cluster import KElbowVisualizer\n",
    "import sys\n",
    "import warnings\n",
    "from sklearn import svm\n",
    "if not sys.warnoptions:\n",
    "    warnings.simplefilter(\"ignore\")"
   ]
  },
  {
   "cell_type": "code",
   "execution_count": 71,
   "metadata": {},
   "outputs": [],
   "source": [
    "cat =  pd.read_csv('Categorie.20210726.csv')\n",
    "strings = pd.read_csv('Stringhe.20210726.csv')"
   ]
  },
  {
   "cell_type": "code",
   "execution_count": 72,
   "metadata": {},
   "outputs": [],
   "source": [
    "strings = strings.reset_index(drop = True)"
   ]
  },
  {
   "cell_type": "code",
   "execution_count": 73,
   "metadata": {},
   "outputs": [
    {
     "data": {
      "text/html": [
       "<div>\n",
       "<style scoped>\n",
       "    .dataframe tbody tr th:only-of-type {\n",
       "        vertical-align: middle;\n",
       "    }\n",
       "\n",
       "    .dataframe tbody tr th {\n",
       "        vertical-align: top;\n",
       "    }\n",
       "\n",
       "    .dataframe thead th {\n",
       "        text-align: right;\n",
       "    }\n",
       "</style>\n",
       "<table border=\"1\" class=\"dataframe\">\n",
       "  <thead>\n",
       "    <tr style=\"text-align: right;\">\n",
       "      <th></th>\n",
       "      <th>ID</th>\n",
       "      <th>DescrizioneStringa</th>\n",
       "      <th>IDTipoInformazione</th>\n",
       "      <th>Sigla</th>\n",
       "      <th>IDCategoria</th>\n",
       "    </tr>\n",
       "  </thead>\n",
       "  <tbody>\n",
       "    <tr>\n",
       "      <th>268</th>\n",
       "      <td>269</td>\n",
       "      <td>Spia delle cinture di sicurezza</td>\n",
       "      <td>1</td>\n",
       "      <td>BOD, STR</td>\n",
       "      <td>NaN</td>\n",
       "    </tr>\n",
       "    <tr>\n",
       "      <th>269</th>\n",
       "      <td>270</td>\n",
       "      <td>Spia delle cinture di sicurezza</td>\n",
       "      <td>2</td>\n",
       "      <td>STR</td>\n",
       "      <td>NaN</td>\n",
       "    </tr>\n",
       "    <tr>\n",
       "      <th>669</th>\n",
       "      <td>670</td>\n",
       "      <td>Spia mancato allacciamento cinture</td>\n",
       "      <td>1</td>\n",
       "      <td>BOD</td>\n",
       "      <td>NaN</td>\n",
       "    </tr>\n",
       "    <tr>\n",
       "      <th>670</th>\n",
       "      <td>671</td>\n",
       "      <td>Spia mancato allacciamento cinture</td>\n",
       "      <td>1</td>\n",
       "      <td>BOD, STR</td>\n",
       "      <td>NaN</td>\n",
       "    </tr>\n",
       "    <tr>\n",
       "      <th>944</th>\n",
       "      <td>945</td>\n",
       "      <td>Avviso cinture sicurezza</td>\n",
       "      <td>1</td>\n",
       "      <td>STR</td>\n",
       "      <td>62.0</td>\n",
       "    </tr>\n",
       "    <tr>\n",
       "      <th>1356</th>\n",
       "      <td>1357</td>\n",
       "      <td>Spia cinture di sicurezza</td>\n",
       "      <td>1</td>\n",
       "      <td>STR</td>\n",
       "      <td>NaN</td>\n",
       "    </tr>\n",
       "    <tr>\n",
       "      <th>1735</th>\n",
       "      <td>1736</td>\n",
       "      <td>Spia cinture di sicurezza</td>\n",
       "      <td>1</td>\n",
       "      <td>STR</td>\n",
       "      <td>NaN</td>\n",
       "    </tr>\n",
       "    <tr>\n",
       "      <th>1736</th>\n",
       "      <td>1737</td>\n",
       "      <td>Spia cinture di sicurezza</td>\n",
       "      <td>1</td>\n",
       "      <td>STR</td>\n",
       "      <td>NaN</td>\n",
       "    </tr>\n",
       "  </tbody>\n",
       "</table>\n",
       "</div>"
      ],
      "text/plain": [
       "        ID                  DescrizioneStringa  IDTipoInformazione     Sigla  \\\n",
       "268    269     Spia delle cinture di sicurezza                   1  BOD, STR   \n",
       "269    270     Spia delle cinture di sicurezza                   2       STR   \n",
       "669    670  Spia mancato allacciamento cinture                   1       BOD   \n",
       "670    671  Spia mancato allacciamento cinture                   1  BOD, STR   \n",
       "944    945            Avviso cinture sicurezza                   1       STR   \n",
       "1356  1357           Spia cinture di sicurezza                   1       STR   \n",
       "1735  1736           Spia cinture di sicurezza                   1       STR   \n",
       "1736  1737           Spia cinture di sicurezza                   1       STR   \n",
       "\n",
       "      IDCategoria  \n",
       "268           NaN  \n",
       "269           NaN  \n",
       "669           NaN  \n",
       "670           NaN  \n",
       "944          62.0  \n",
       "1356          NaN  \n",
       "1735          NaN  \n",
       "1736          NaN  "
      ]
     },
     "execution_count": 73,
     "metadata": {},
     "output_type": "execute_result"
    }
   ],
   "source": [
    "strings[strings['DescrizioneStringa'].str.contains('cinture')]"
   ]
  },
  {
   "cell_type": "code",
   "execution_count": 74,
   "metadata": {},
   "outputs": [],
   "source": [
    "haedlines = strings['DescrizioneStringa']\n",
    "lemma = WordNetLemmatizer()\n",
    "ps = PorterStemmer()\n",
    "corpus = []\n",
    "corpus1 = []\n",
    "for i in range(len(haedlines)):\n",
    "    #rev = re.sub(r'[^\\w]', ' ',headlines[i])\n",
    "    rev = re.sub('[^a-zA-Z]',' ',haedlines[i])\n",
    "    rev = rev.lower()\n",
    "    rev = rev.split()\n",
    "    rev_stem = [ps.stem(word) for word in rev]\n",
    "    rev_lemma = [lemma.lemmatize(word1) for word1 in rev]\n",
    "    rev_stem = ' '.join(rev_stem)\n",
    "    rev_lemma = ' '.join(rev_lemma)\n",
    "    corpus.append(rev_stem)\n",
    "    corpus1.append(rev_lemma)"
   ]
  },
  {
   "cell_type": "code",
   "execution_count": 75,
   "metadata": {},
   "outputs": [],
   "source": [
    "strings = pd.concat([strings,pd.Series(corpus,name = 'Stemming'),pd.Series(corpus,name = 'Lemmatize')],axis = 1)"
   ]
  },
  {
   "cell_type": "markdown",
   "metadata": {},
   "source": [
    "### TfidfVectorizer for stemmed."
   ]
  },
  {
   "cell_type": "code",
   "execution_count": 76,
   "metadata": {},
   "outputs": [],
   "source": [
    "italian_stopwords = get_stop_words('italian')\n",
    "tfidf = TfidfVectorizer(\n",
    "    max_features = 8000,\n",
    "    stop_words = italian_stopwords)\n",
    "tfidf.fit(corpus)\n",
    "text = tfidf.transform(corpus)\n",
    "X = text"
   ]
  },
  {
   "cell_type": "markdown",
   "metadata": {},
   "source": [
    "### TfidfVectorizer for lemmatized."
   ]
  },
  {
   "cell_type": "code",
   "execution_count": 77,
   "metadata": {},
   "outputs": [],
   "source": [
    "tfidf.fit(corpus1)\n",
    "text1 = tfidf.transform(corpus1)\n",
    "X1 = text1"
   ]
  },
  {
   "cell_type": "markdown",
   "metadata": {},
   "source": [
    "### Model for stemmed words"
   ]
  },
  {
   "cell_type": "code",
   "execution_count": 78,
   "metadata": {},
   "outputs": [
    {
     "data": {
      "image/png": "[encoded data removed]",
      "text/plain": [
       "<Figure size 576x396 with 2 Axes>"
      ]
     },
     "metadata": {},
     "output_type": "display_data"
    },
    {
     "data": {
      "text/plain": [
       "<matplotlib.axes._subplots.AxesSubplot at 0x7f3a1602e190>"
      ]
     },
     "execution_count": 78,
     "metadata": {},
     "output_type": "execute_result"
    }
   ],
   "source": [
    "model = KMeans()\n",
    "visualizer = KElbowVisualizer(model, k=(2,20), timings= True)\n",
    "visualizer.fit(text)\n",
    "visualizer.show()"
   ]
  },
  {
   "cell_type": "code",
   "execution_count": 86,
   "metadata": {},
   "outputs": [
    {
     "data": {
      "text/plain": [
       "0     591\n",
       "7     296\n",
       "2     179\n",
       "1     129\n",
       "4     100\n",
       "9      89\n",
       "5      87\n",
       "8      83\n",
       "3      75\n",
       "10     59\n",
       "11     56\n",
       "6      37\n",
       "dtype: int64"
      ]
     },
     "execution_count": 86,
     "metadata": {},
     "output_type": "execute_result"
    }
   ],
   "source": [
    "model_tfidf = KMeans(n_clusters = 12)\n",
    "model_tfidf.fit(text)\n",
    "strings['TfIdfClusters'] = model_tfidf.labels_\n",
    "pd.Series(model_tfidf.labels_).value_counts()"
   ]
  },
  {
   "cell_type": "code",
   "execution_count": 87,
   "metadata": {},
   "outputs": [
    {
     "data": {
      "text/html": [
       "<div>\n",
       "<style scoped>\n",
       "    .dataframe tbody tr th:only-of-type {\n",
       "        vertical-align: middle;\n",
       "    }\n",
       "\n",
       "    .dataframe tbody tr th {\n",
       "        vertical-align: top;\n",
       "    }\n",
       "\n",
       "    .dataframe thead th {\n",
       "        text-align: right;\n",
       "    }\n",
       "</style>\n",
       "<table border=\"1\" class=\"dataframe\">\n",
       "  <thead>\n",
       "    <tr style=\"text-align: right;\">\n",
       "      <th></th>\n",
       "      <th>TfIdfClusters</th>\n",
       "      <th>UniqueCluster</th>\n",
       "    </tr>\n",
       "    <tr>\n",
       "      <th>IDCategoria</th>\n",
       "      <th></th>\n",
       "      <th></th>\n",
       "    </tr>\n",
       "  </thead>\n",
       "  <tbody>\n",
       "    <tr>\n",
       "      <th>0.0</th>\n",
       "      <td>[2]</td>\n",
       "      <td>[2]</td>\n",
       "    </tr>\n",
       "    <tr>\n",
       "      <th>1.0</th>\n",
       "      <td>[0, 6, 0]</td>\n",
       "      <td>[0, 6]</td>\n",
       "    </tr>\n",
       "    <tr>\n",
       "      <th>2.0</th>\n",
       "      <td>[10, 10]</td>\n",
       "      <td>[10]</td>\n",
       "    </tr>\n",
       "    <tr>\n",
       "      <th>3.0</th>\n",
       "      <td>[0, 0, 0]</td>\n",
       "      <td>[0]</td>\n",
       "    </tr>\n",
       "    <tr>\n",
       "      <th>4.0</th>\n",
       "      <td>[6, 0]</td>\n",
       "      <td>[0, 6]</td>\n",
       "    </tr>\n",
       "    <tr>\n",
       "      <th>5.0</th>\n",
       "      <td>[1, 0]</td>\n",
       "      <td>[0, 1]</td>\n",
       "    </tr>\n",
       "    <tr>\n",
       "      <th>6.0</th>\n",
       "      <td>[0, 0, 0, 0]</td>\n",
       "      <td>[0]</td>\n",
       "    </tr>\n",
       "    <tr>\n",
       "      <th>7.0</th>\n",
       "      <td>[0, 0, 4, 4]</td>\n",
       "      <td>[0, 4]</td>\n",
       "    </tr>\n",
       "    <tr>\n",
       "      <th>8.0</th>\n",
       "      <td>[0, 0, 0]</td>\n",
       "      <td>[0]</td>\n",
       "    </tr>\n",
       "    <tr>\n",
       "      <th>9.0</th>\n",
       "      <td>[0, 7, 7, 7]</td>\n",
       "      <td>[0, 7]</td>\n",
       "    </tr>\n",
       "  </tbody>\n",
       "</table>\n",
       "</div>"
      ],
      "text/plain": [
       "            TfIdfClusters UniqueCluster\n",
       "IDCategoria                            \n",
       "0.0                   [2]           [2]\n",
       "1.0             [0, 6, 0]        [0, 6]\n",
       "2.0              [10, 10]          [10]\n",
       "3.0             [0, 0, 0]           [0]\n",
       "4.0                [6, 0]        [0, 6]\n",
       "5.0                [1, 0]        [0, 1]\n",
       "6.0          [0, 0, 0, 0]           [0]\n",
       "7.0          [0, 0, 4, 4]        [0, 4]\n",
       "8.0             [0, 0, 0]           [0]\n",
       "9.0          [0, 7, 7, 7]        [0, 7]"
      ]
     },
     "execution_count": 87,
     "metadata": {},
     "output_type": "execute_result"
    }
   ],
   "source": [
    "categorizedstring = strings[~strings['IDCategoria'].isna()]\n",
    "catlist = pd.DataFrame (data = categorizedstring.groupby('IDCategoria')['TfIdfClusters'].apply(list))\n",
    "catlist['UniqueCluster'] = catlist['TfIdfClusters'].apply(lambda x: np.unique(x))\n",
    "catlist.head(10)"
   ]
  },
  {
   "cell_type": "code",
   "execution_count": 88,
   "metadata": {},
   "outputs": [
    {
     "data": {
      "text/html": [
       "<div>\n",
       "<style scoped>\n",
       "    .dataframe tbody tr th:only-of-type {\n",
       "        vertical-align: middle;\n",
       "    }\n",
       "\n",
       "    .dataframe tbody tr th {\n",
       "        vertical-align: top;\n",
       "    }\n",
       "\n",
       "    .dataframe thead th {\n",
       "        text-align: right;\n",
       "    }\n",
       "</style>\n",
       "<table border=\"1\" class=\"dataframe\">\n",
       "  <thead>\n",
       "    <tr style=\"text-align: right;\">\n",
       "      <th></th>\n",
       "      <th>IDCategoria</th>\n",
       "    </tr>\n",
       "    <tr>\n",
       "      <th>TfIdfClusters</th>\n",
       "      <th></th>\n",
       "    </tr>\n",
       "  </thead>\n",
       "  <tbody>\n",
       "    <tr>\n",
       "      <th>0</th>\n",
       "      <td>[23.0, 33.0, 14.0, 32.0, 19.0, 16.0, 1.0, 114....</td>\n",
       "    </tr>\n",
       "    <tr>\n",
       "      <th>1</th>\n",
       "      <td>[13.0, 28.0, 21.0, 72.0, 28.0, 72.0, 70.0, 21....</td>\n",
       "    </tr>\n",
       "    <tr>\n",
       "      <th>2</th>\n",
       "      <td>[14.0, 20.0, 23.0, 20.0, 76.0, 54.0, 76.0, 25....</td>\n",
       "    </tr>\n",
       "    <tr>\n",
       "      <th>3</th>\n",
       "      <td>[81.0, 85.0, 82.0, 86.0, 83.0, 87.0, 84.0, 88....</td>\n",
       "    </tr>\n",
       "    <tr>\n",
       "      <th>4</th>\n",
       "      <td>[12.0, 12.0, 12.0, 7.0, 7.0, 12.0, 10.0]</td>\n",
       "    </tr>\n",
       "    <tr>\n",
       "      <th>5</th>\n",
       "      <td>[32.0, 61.0, 59.0, 56.0, 57.0, 59.0, 59.0]</td>\n",
       "    </tr>\n",
       "    <tr>\n",
       "      <th>6</th>\n",
       "      <td>[1.0, 23.0, 4.0, 29.0, 64.0]</td>\n",
       "    </tr>\n",
       "    <tr>\n",
       "      <th>7</th>\n",
       "      <td>[75.0, 11.0, 10.0, 11.0, 18.0, 19.0, 75.0, 11....</td>\n",
       "    </tr>\n",
       "    <tr>\n",
       "      <th>8</th>\n",
       "      <td>[56.0, 56.0, 61.0, 57.0]</td>\n",
       "    </tr>\n",
       "    <tr>\n",
       "      <th>9</th>\n",
       "      <td>[15.0, 73.0, 66.0, 67.0, 15.0, 15.0, 66.0, 67....</td>\n",
       "    </tr>\n",
       "    <tr>\n",
       "      <th>10</th>\n",
       "      <td>[2.0, 37.0, 62.0, 37.0, 36.0, 38.0, 2.0, 116.0...</td>\n",
       "    </tr>\n",
       "    <tr>\n",
       "      <th>11</th>\n",
       "      <td>[36.0, 117.0, 115.0, 116.0, 62.0, 37.0, 62.0]</td>\n",
       "    </tr>\n",
       "  </tbody>\n",
       "</table>\n",
       "</div>"
      ],
      "text/plain": [
       "                                                     IDCategoria\n",
       "TfIdfClusters                                                   \n",
       "0              [23.0, 33.0, 14.0, 32.0, 19.0, 16.0, 1.0, 114....\n",
       "1              [13.0, 28.0, 21.0, 72.0, 28.0, 72.0, 70.0, 21....\n",
       "2              [14.0, 20.0, 23.0, 20.0, 76.0, 54.0, 76.0, 25....\n",
       "3              [81.0, 85.0, 82.0, 86.0, 83.0, 87.0, 84.0, 88....\n",
       "4                       [12.0, 12.0, 12.0, 7.0, 7.0, 12.0, 10.0]\n",
       "5                     [32.0, 61.0, 59.0, 56.0, 57.0, 59.0, 59.0]\n",
       "6                                   [1.0, 23.0, 4.0, 29.0, 64.0]\n",
       "7              [75.0, 11.0, 10.0, 11.0, 18.0, 19.0, 75.0, 11....\n",
       "8                                       [56.0, 56.0, 61.0, 57.0]\n",
       "9              [15.0, 73.0, 66.0, 67.0, 15.0, 15.0, 66.0, 67....\n",
       "10             [2.0, 37.0, 62.0, 37.0, 36.0, 38.0, 2.0, 116.0...\n",
       "11                 [36.0, 117.0, 115.0, 116.0, 62.0, 37.0, 62.0]"
      ]
     },
     "execution_count": 88,
     "metadata": {},
     "output_type": "execute_result"
    }
   ],
   "source": [
    "clusterlist = pd.DataFrame (data = categorizedstring.groupby('TfIdfClusters')['IDCategoria'].apply(list))\n",
    "clusterlist.head(50)"
   ]
  },
  {
   "cell_type": "markdown",
   "metadata": {},
   "source": [
    "### Model for lemmatized words. "
   ]
  },
  {
   "cell_type": "code",
   "execution_count": 89,
   "metadata": {},
   "outputs": [
    {
     "data": {
      "image/png": "[encoded data removed]",
      "text/plain": [
       "<Figure size 576x396 with 2 Axes>"
      ]
     },
     "metadata": {},
     "output_type": "display_data"
    },
    {
     "data": {
      "text/plain": [
       "<matplotlib.axes._subplots.AxesSubplot at 0x7f3a15ac6b50>"
      ]
     },
     "execution_count": 89,
     "metadata": {},
     "output_type": "execute_result"
    }
   ],
   "source": [
    "model = KMeans()\n",
    "visualizer = KElbowVisualizer(model, k=(2,20), timings= True)\n",
    "visualizer.fit(text1)\n",
    "visualizer.show()"
   ]
  },
  {
   "cell_type": "code",
   "execution_count": 90,
   "metadata": {},
   "outputs": [
    {
     "data": {
      "text/plain": [
       "1     565\n",
       "3     246\n",
       "11    154\n",
       "9     108\n",
       "5      97\n",
       "2      95\n",
       "0      88\n",
       "10     67\n",
       "4      67\n",
       "8      59\n",
       "14     56\n",
       "6      43\n",
       "12     40\n",
       "7      37\n",
       "15     35\n",
       "13     24\n",
       "dtype: int64"
      ]
     },
     "execution_count": 90,
     "metadata": {},
     "output_type": "execute_result"
    }
   ],
   "source": [
    "model_tfidf = KMeans(n_clusters = 16)\n",
    "model_tfidf.fit(text)\n",
    "strings['TfIdfClusters1'] = model_tfidf.labels_\n",
    "pd.Series(model_tfidf.labels_).value_counts()"
   ]
  },
  {
   "cell_type": "code",
   "execution_count": 91,
   "metadata": {},
   "outputs": [
    {
     "data": {
      "text/html": [
       "<div>\n",
       "<style scoped>\n",
       "    .dataframe tbody tr th:only-of-type {\n",
       "        vertical-align: middle;\n",
       "    }\n",
       "\n",
       "    .dataframe tbody tr th {\n",
       "        vertical-align: top;\n",
       "    }\n",
       "\n",
       "    .dataframe thead th {\n",
       "        text-align: right;\n",
       "    }\n",
       "</style>\n",
       "<table border=\"1\" class=\"dataframe\">\n",
       "  <thead>\n",
       "    <tr style=\"text-align: right;\">\n",
       "      <th></th>\n",
       "      <th>TfIdfClusters1</th>\n",
       "      <th>UniqueCluster</th>\n",
       "    </tr>\n",
       "    <tr>\n",
       "      <th>IDCategoria</th>\n",
       "      <th></th>\n",
       "      <th></th>\n",
       "    </tr>\n",
       "  </thead>\n",
       "  <tbody>\n",
       "    <tr>\n",
       "      <th>0.0</th>\n",
       "      <td>[5]</td>\n",
       "      <td>[5]</td>\n",
       "    </tr>\n",
       "    <tr>\n",
       "      <th>1.0</th>\n",
       "      <td>[1, 15, 1]</td>\n",
       "      <td>[1, 15]</td>\n",
       "    </tr>\n",
       "    <tr>\n",
       "      <th>2.0</th>\n",
       "      <td>[9, 9]</td>\n",
       "      <td>[9]</td>\n",
       "    </tr>\n",
       "    <tr>\n",
       "      <th>3.0</th>\n",
       "      <td>[1, 1, 1]</td>\n",
       "      <td>[1]</td>\n",
       "    </tr>\n",
       "    <tr>\n",
       "      <th>4.0</th>\n",
       "      <td>[15, 1]</td>\n",
       "      <td>[1, 15]</td>\n",
       "    </tr>\n",
       "    <tr>\n",
       "      <th>5.0</th>\n",
       "      <td>[11, 1]</td>\n",
       "      <td>[1, 11]</td>\n",
       "    </tr>\n",
       "    <tr>\n",
       "      <th>6.0</th>\n",
       "      <td>[1, 13, 1, 1]</td>\n",
       "      <td>[1, 13]</td>\n",
       "    </tr>\n",
       "    <tr>\n",
       "      <th>7.0</th>\n",
       "      <td>[6, 6, 10, 10]</td>\n",
       "      <td>[6, 10]</td>\n",
       "    </tr>\n",
       "    <tr>\n",
       "      <th>8.0</th>\n",
       "      <td>[1, 1, 1]</td>\n",
       "      <td>[1]</td>\n",
       "    </tr>\n",
       "    <tr>\n",
       "      <th>9.0</th>\n",
       "      <td>[1, 1, 3, 3]</td>\n",
       "      <td>[1, 3]</td>\n",
       "    </tr>\n",
       "  </tbody>\n",
       "</table>\n",
       "</div>"
      ],
      "text/plain": [
       "             TfIdfClusters1 UniqueCluster\n",
       "IDCategoria                              \n",
       "0.0                     [5]           [5]\n",
       "1.0              [1, 15, 1]       [1, 15]\n",
       "2.0                  [9, 9]           [9]\n",
       "3.0               [1, 1, 1]           [1]\n",
       "4.0                 [15, 1]       [1, 15]\n",
       "5.0                 [11, 1]       [1, 11]\n",
       "6.0           [1, 13, 1, 1]       [1, 13]\n",
       "7.0          [6, 6, 10, 10]       [6, 10]\n",
       "8.0               [1, 1, 1]           [1]\n",
       "9.0            [1, 1, 3, 3]        [1, 3]"
      ]
     },
     "execution_count": 91,
     "metadata": {},
     "output_type": "execute_result"
    }
   ],
   "source": [
    "categorizedstring = strings[~strings['IDCategoria'].isna()]\n",
    "catlist = pd.DataFrame (data = categorizedstring.groupby('IDCategoria')['TfIdfClusters1'].apply(list))\n",
    "catlist['UniqueCluster'] = catlist['TfIdfClusters1'].apply(lambda x: np.unique(x))\n",
    "catlist.head(10)"
   ]
  },
  {
   "cell_type": "code",
   "execution_count": 92,
   "metadata": {},
   "outputs": [
    {
     "data": {
      "text/html": [
       "<div>\n",
       "<style scoped>\n",
       "    .dataframe tbody tr th:only-of-type {\n",
       "        vertical-align: middle;\n",
       "    }\n",
       "\n",
       "    .dataframe tbody tr th {\n",
       "        vertical-align: top;\n",
       "    }\n",
       "\n",
       "    .dataframe thead th {\n",
       "        text-align: right;\n",
       "    }\n",
       "</style>\n",
       "<table border=\"1\" class=\"dataframe\">\n",
       "  <thead>\n",
       "    <tr style=\"text-align: right;\">\n",
       "      <th></th>\n",
       "      <th>IDCategoria</th>\n",
       "    </tr>\n",
       "    <tr>\n",
       "      <th>TfIdfClusters1</th>\n",
       "      <th></th>\n",
       "    </tr>\n",
       "  </thead>\n",
       "  <tbody>\n",
       "    <tr>\n",
       "      <th>0</th>\n",
       "      <td>[56.0, 56.0, 61.0, 57.0]</td>\n",
       "    </tr>\n",
       "    <tr>\n",
       "      <th>1</th>\n",
       "      <td>[23.0, 33.0, 14.0, 20.0, 23.0, 32.0, 19.0, 16....</td>\n",
       "    </tr>\n",
       "    <tr>\n",
       "      <th>2</th>\n",
       "      <td>[20.0, 76.0, 76.0, 15.0, 12.0, 12.0, 12.0, 73....</td>\n",
       "    </tr>\n",
       "    <tr>\n",
       "      <th>3</th>\n",
       "      <td>[73.0, 11.0, 11.0, 18.0, 19.0, 11.0, 9.0, 9.0,...</td>\n",
       "    </tr>\n",
       "    <tr>\n",
       "      <th>4</th>\n",
       "      <td>[32.0, 61.0, 59.0, 56.0, 57.0, 59.0, 59.0]</td>\n",
       "    </tr>\n",
       "    <tr>\n",
       "      <th>5</th>\n",
       "      <td>[14.0, 54.0, 25.0, 26.0, 65.0, 54.0, 14.0, 65....</td>\n",
       "    </tr>\n",
       "    <tr>\n",
       "      <th>6</th>\n",
       "      <td>[75.0, 7.0, 7.0, 75.0]</td>\n",
       "    </tr>\n",
       "    <tr>\n",
       "      <th>7</th>\n",
       "      <td>[45.0, 81.0, 82.0, 83.0, 84.0, 42.0, 15.0, 67....</td>\n",
       "    </tr>\n",
       "    <tr>\n",
       "      <th>8</th>\n",
       "      <td>[81.0, 85.0, 82.0, 86.0, 83.0, 87.0, 84.0, 88....</td>\n",
       "    </tr>\n",
       "    <tr>\n",
       "      <th>9</th>\n",
       "      <td>[2.0, 36.0, 117.0, 115.0, 116.0, 37.0, 62.0, 3...</td>\n",
       "    </tr>\n",
       "    <tr>\n",
       "      <th>10</th>\n",
       "      <td>[12.0, 7.0, 7.0, 10.0]</td>\n",
       "    </tr>\n",
       "    <tr>\n",
       "      <th>11</th>\n",
       "      <td>[13.0, 28.0, 21.0, 72.0, 66.0, 28.0, 72.0, 70....</td>\n",
       "    </tr>\n",
       "    <tr>\n",
       "      <th>12</th>\n",
       "      <td>[53.0, 27.0, 53.0, 54.0, 119.0, 20.0, 119.0, 6...</td>\n",
       "    </tr>\n",
       "    <tr>\n",
       "      <th>13</th>\n",
       "      <td>[6.0]</td>\n",
       "    </tr>\n",
       "    <tr>\n",
       "      <th>14</th>\n",
       "      <td>[10.0, 55.0]</td>\n",
       "    </tr>\n",
       "    <tr>\n",
       "      <th>15</th>\n",
       "      <td>[1.0, 23.0, 4.0, 29.0, 64.0]</td>\n",
       "    </tr>\n",
       "  </tbody>\n",
       "</table>\n",
       "</div>"
      ],
      "text/plain": [
       "                                                      IDCategoria\n",
       "TfIdfClusters1                                                   \n",
       "0                                        [56.0, 56.0, 61.0, 57.0]\n",
       "1               [23.0, 33.0, 14.0, 20.0, 23.0, 32.0, 19.0, 16....\n",
       "2               [20.0, 76.0, 76.0, 15.0, 12.0, 12.0, 12.0, 73....\n",
       "3               [73.0, 11.0, 11.0, 18.0, 19.0, 11.0, 9.0, 9.0,...\n",
       "4                      [32.0, 61.0, 59.0, 56.0, 57.0, 59.0, 59.0]\n",
       "5               [14.0, 54.0, 25.0, 26.0, 65.0, 54.0, 14.0, 65....\n",
       "6                                          [75.0, 7.0, 7.0, 75.0]\n",
       "7               [45.0, 81.0, 82.0, 83.0, 84.0, 42.0, 15.0, 67....\n",
       "8               [81.0, 85.0, 82.0, 86.0, 83.0, 87.0, 84.0, 88....\n",
       "9               [2.0, 36.0, 117.0, 115.0, 116.0, 37.0, 62.0, 3...\n",
       "10                                         [12.0, 7.0, 7.0, 10.0]\n",
       "11              [13.0, 28.0, 21.0, 72.0, 66.0, 28.0, 72.0, 70....\n",
       "12              [53.0, 27.0, 53.0, 54.0, 119.0, 20.0, 119.0, 6...\n",
       "13                                                          [6.0]\n",
       "14                                                   [10.0, 55.0]\n",
       "15                                   [1.0, 23.0, 4.0, 29.0, 64.0]"
      ]
     },
     "execution_count": 92,
     "metadata": {},
     "output_type": "execute_result"
    }
   ],
   "source": [
    "clusterlist = pd.DataFrame (data = categorizedstring.groupby('TfIdfClusters1')['IDCategoria'].apply(list))\n",
    "clusterlist.head(50)"
   ]
  },
  {
   "cell_type": "code",
   "execution_count": null,
   "metadata": {},
   "outputs": [],
   "source": []
  }
 ],
 "metadata": {
  "kernelspec": {
   "display_name": "Python 3",
   "language": "python",
   "name": "python3"
  },
  "language_info": {
   "codemirror_mode": {
    "name": "ipython",
    "version": 3
   },
   "file_extension": ".py",
   "mimetype": "text/x-python",
   "name": "python",
   "nbconvert_exporter": "python",
   "pygments_lexer": "ipython3",
   "version": "3.7.6"
  }
 },
 "nbformat": 4,
 "nbformat_minor": 4
}
